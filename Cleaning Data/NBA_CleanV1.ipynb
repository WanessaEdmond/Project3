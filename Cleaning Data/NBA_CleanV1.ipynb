{
 "cells": [
  {
   "cell_type": "code",
   "execution_count": 1,
   "metadata": {},
   "outputs": [],
   "source": [
    "# Import dependencies\n",
    "import pandas as pd\n",
    "import numpy as np\n",
    "pd.set_option('max_colwidth', 400)"
   ]
  },
  {
   "cell_type": "code",
   "execution_count": 2,
   "metadata": {},
   "outputs": [],
   "source": [
    "nba_df = pd.read_csv('../NBA_Demographics.csv')"
   ]
  },
  {
   "cell_type": "code",
   "execution_count": 4,
   "metadata": {},
   "outputs": [
    {
     "name": "stdout",
     "output_type": "stream",
     "text": [
      "<class 'pandas.core.frame.DataFrame'>\n",
      "RangeIndex: 4688 entries, 0 to 4687\n",
      "Data columns (total 31 columns):\n",
      " #   Column  Non-Null Count  Dtype  \n",
      "---  ------  --------------  -----  \n",
      " 0   Rk      4688 non-null   int64  \n",
      " 1   Player  4688 non-null   object \n",
      " 2   Yrs     4688 non-null   int64  \n",
      " 3   From    4688 non-null   int64  \n",
      " 4   To      4688 non-null   int64  \n",
      " 5   G       4688 non-null   int64  \n",
      " 6   MP      4395 non-null   float64\n",
      " 7   FG      4688 non-null   int64  \n",
      " 8   FGA     4688 non-null   int64  \n",
      " 9   3P      3759 non-null   float64\n",
      " 10  3PA     3759 non-null   float64\n",
      " 11  FT      4688 non-null   int64  \n",
      " 12  FTA     4688 non-null   int64  \n",
      " 13  ORB     3945 non-null   float64\n",
      " 14  TRB     4443 non-null   float64\n",
      " 15  AST     4688 non-null   int64  \n",
      " 16  STL     3761 non-null   float64\n",
      " 17  BLK     3761 non-null   float64\n",
      " 18  TOV     3842 non-null   float64\n",
      " 19  PF      4688 non-null   int64  \n",
      " 20  PTS     4688 non-null   int64  \n",
      " 21  FG%     4659 non-null   float64\n",
      " 22  3P%     3301 non-null   float64\n",
      " 23  FT%     4480 non-null   float64\n",
      " 24  MP.1    4395 non-null   float64\n",
      " 25  PTS.1   4688 non-null   float64\n",
      " 26  TRB.1   4443 non-null   float64\n",
      " 27  AST.1   4688 non-null   float64\n",
      " 28  Date    4686 non-null   object \n",
      " 29  City    4659 non-null   object \n",
      " 30  Region  4688 non-null   object \n",
      "dtypes: float64(15), int64(12), object(4)\n",
      "memory usage: 1.1+ MB\n"
     ]
    }
   ],
   "source": [
    "nba_df.info()"
   ]
  },
  {
   "cell_type": "code",
   "execution_count": 9,
   "metadata": {},
   "outputs": [],
   "source": [
    "#df.rename(columns={\"A\": \"a\", \"B\": \"c\"})\n",
    "#df.drop(columns=['B', 'C'])\n",
    "nba_df = nba_df.drop(columns=['G','MP', 'FG', 'FGA', '3P', '3PA', 'FT', 'FTA', 'ORB', 'TRB', 'AST', 'STL', 'BLK', 'TOV', 'PF', 'FG%', '3P%', 'FT%', 'MP.1', 'PTS.1', 'TRB.1', 'AST.1'])\n"
   ]
  },
  {
   "cell_type": "code",
   "execution_count": 10,
   "metadata": {},
   "outputs": [
    {
     "data": {
      "text/html": [
       "<div>\n",
       "<style scoped>\n",
       "    .dataframe tbody tr th:only-of-type {\n",
       "        vertical-align: middle;\n",
       "    }\n",
       "\n",
       "    .dataframe tbody tr th {\n",
       "        vertical-align: top;\n",
       "    }\n",
       "\n",
       "    .dataframe thead th {\n",
       "        text-align: right;\n",
       "    }\n",
       "</style>\n",
       "<table border=\"1\" class=\"dataframe\">\n",
       "  <thead>\n",
       "    <tr style=\"text-align: right;\">\n",
       "      <th></th>\n",
       "      <th>Rk</th>\n",
       "      <th>Player</th>\n",
       "      <th>Yrs</th>\n",
       "      <th>From</th>\n",
       "      <th>To</th>\n",
       "      <th>PTS</th>\n",
       "      <th>Date</th>\n",
       "      <th>City</th>\n",
       "      <th>Region</th>\n",
       "    </tr>\n",
       "  </thead>\n",
       "  <tbody>\n",
       "    <tr>\n",
       "      <th>0</th>\n",
       "      <td>1</td>\n",
       "      <td>Michael Ansley</td>\n",
       "      <td>3</td>\n",
       "      <td>1990</td>\n",
       "      <td>1992</td>\n",
       "      <td>1026</td>\n",
       "      <td>Feb 8, 1967</td>\n",
       "      <td>Birmingham</td>\n",
       "      <td>Alabama</td>\n",
       "    </tr>\n",
       "    <tr>\n",
       "      <th>1</th>\n",
       "      <td>2</td>\n",
       "      <td>Keith Askins</td>\n",
       "      <td>9</td>\n",
       "      <td>1991</td>\n",
       "      <td>1999</td>\n",
       "      <td>1852</td>\n",
       "      <td>Dec 15, 1967</td>\n",
       "      <td>Athens</td>\n",
       "      <td>Alabama</td>\n",
       "    </tr>\n",
       "    <tr>\n",
       "      <th>2</th>\n",
       "      <td>3</td>\n",
       "      <td>Carl Bailey</td>\n",
       "      <td>1</td>\n",
       "      <td>1982</td>\n",
       "      <td>1982</td>\n",
       "      <td>2</td>\n",
       "      <td>Apr 23, 1958</td>\n",
       "      <td>Birmingham</td>\n",
       "      <td>Alabama</td>\n",
       "    </tr>\n",
       "    <tr>\n",
       "      <th>3</th>\n",
       "      <td>4</td>\n",
       "      <td>Charles Barkley*</td>\n",
       "      <td>16</td>\n",
       "      <td>1985</td>\n",
       "      <td>2000</td>\n",
       "      <td>23757</td>\n",
       "      <td>Feb 20, 1963</td>\n",
       "      <td>Leeds</td>\n",
       "      <td>Alabama</td>\n",
       "    </tr>\n",
       "    <tr>\n",
       "      <th>4</th>\n",
       "      <td>5</td>\n",
       "      <td>Eric Bledsoe</td>\n",
       "      <td>12</td>\n",
       "      <td>2011</td>\n",
       "      <td>2022</td>\n",
       "      <td>10348</td>\n",
       "      <td>Dec 9, 1989</td>\n",
       "      <td>Birmingham</td>\n",
       "      <td>Alabama</td>\n",
       "    </tr>\n",
       "  </tbody>\n",
       "</table>\n",
       "</div>"
      ],
      "text/plain": [
       "   Rk            Player  Yrs  From    To    PTS          Date        City  \\\n",
       "0   1    Michael Ansley    3  1990  1992   1026   Feb 8, 1967  Birmingham   \n",
       "1   2      Keith Askins    9  1991  1999   1852  Dec 15, 1967      Athens   \n",
       "2   3       Carl Bailey    1  1982  1982      2  Apr 23, 1958  Birmingham   \n",
       "3   4  Charles Barkley*   16  1985  2000  23757  Feb 20, 1963       Leeds   \n",
       "4   5      Eric Bledsoe   12  2011  2022  10348   Dec 9, 1989  Birmingham   \n",
       "\n",
       "    Region  \n",
       "0  Alabama  \n",
       "1  Alabama  \n",
       "2  Alabama  \n",
       "3  Alabama  \n",
       "4  Alabama  "
      ]
     },
     "execution_count": 10,
     "metadata": {},
     "output_type": "execute_result"
    }
   ],
   "source": [
    "nba_df.head(5)"
   ]
  },
  {
   "cell_type": "code",
   "execution_count": 12,
   "metadata": {},
   "outputs": [],
   "source": [
    "nba_df = nba_df.rename(columns={\"Rk\": \"Rank\", \"Yrs\": \"Years_Played\", \"From\": \"Start_Year\", \"To\":\"End_Date\", \"PTS\": \"Points\", \"Region\": \"State\"})"
   ]
  },
  {
   "cell_type": "code",
   "execution_count": 13,
   "metadata": {},
   "outputs": [
    {
     "data": {
      "text/html": [
       "<div>\n",
       "<style scoped>\n",
       "    .dataframe tbody tr th:only-of-type {\n",
       "        vertical-align: middle;\n",
       "    }\n",
       "\n",
       "    .dataframe tbody tr th {\n",
       "        vertical-align: top;\n",
       "    }\n",
       "\n",
       "    .dataframe thead th {\n",
       "        text-align: right;\n",
       "    }\n",
       "</style>\n",
       "<table border=\"1\" class=\"dataframe\">\n",
       "  <thead>\n",
       "    <tr style=\"text-align: right;\">\n",
       "      <th></th>\n",
       "      <th>Rank</th>\n",
       "      <th>Player</th>\n",
       "      <th>Years_Played</th>\n",
       "      <th>Start_Year</th>\n",
       "      <th>End_Date</th>\n",
       "      <th>Points</th>\n",
       "      <th>Date</th>\n",
       "      <th>City</th>\n",
       "      <th>State</th>\n",
       "    </tr>\n",
       "  </thead>\n",
       "  <tbody>\n",
       "    <tr>\n",
       "      <th>0</th>\n",
       "      <td>1</td>\n",
       "      <td>Michael Ansley</td>\n",
       "      <td>3</td>\n",
       "      <td>1990</td>\n",
       "      <td>1992</td>\n",
       "      <td>1026</td>\n",
       "      <td>Feb 8, 1967</td>\n",
       "      <td>Birmingham</td>\n",
       "      <td>Alabama</td>\n",
       "    </tr>\n",
       "    <tr>\n",
       "      <th>1</th>\n",
       "      <td>2</td>\n",
       "      <td>Keith Askins</td>\n",
       "      <td>9</td>\n",
       "      <td>1991</td>\n",
       "      <td>1999</td>\n",
       "      <td>1852</td>\n",
       "      <td>Dec 15, 1967</td>\n",
       "      <td>Athens</td>\n",
       "      <td>Alabama</td>\n",
       "    </tr>\n",
       "    <tr>\n",
       "      <th>2</th>\n",
       "      <td>3</td>\n",
       "      <td>Carl Bailey</td>\n",
       "      <td>1</td>\n",
       "      <td>1982</td>\n",
       "      <td>1982</td>\n",
       "      <td>2</td>\n",
       "      <td>Apr 23, 1958</td>\n",
       "      <td>Birmingham</td>\n",
       "      <td>Alabama</td>\n",
       "    </tr>\n",
       "    <tr>\n",
       "      <th>3</th>\n",
       "      <td>4</td>\n",
       "      <td>Charles Barkley*</td>\n",
       "      <td>16</td>\n",
       "      <td>1985</td>\n",
       "      <td>2000</td>\n",
       "      <td>23757</td>\n",
       "      <td>Feb 20, 1963</td>\n",
       "      <td>Leeds</td>\n",
       "      <td>Alabama</td>\n",
       "    </tr>\n",
       "    <tr>\n",
       "      <th>4</th>\n",
       "      <td>5</td>\n",
       "      <td>Eric Bledsoe</td>\n",
       "      <td>12</td>\n",
       "      <td>2011</td>\n",
       "      <td>2022</td>\n",
       "      <td>10348</td>\n",
       "      <td>Dec 9, 1989</td>\n",
       "      <td>Birmingham</td>\n",
       "      <td>Alabama</td>\n",
       "    </tr>\n",
       "  </tbody>\n",
       "</table>\n",
       "</div>"
      ],
      "text/plain": [
       "   Rank            Player  Years_Played  Start_Year  End_Date  Points  \\\n",
       "0     1    Michael Ansley             3        1990      1992    1026   \n",
       "1     2      Keith Askins             9        1991      1999    1852   \n",
       "2     3       Carl Bailey             1        1982      1982       2   \n",
       "3     4  Charles Barkley*            16        1985      2000   23757   \n",
       "4     5      Eric Bledsoe            12        2011      2022   10348   \n",
       "\n",
       "           Date        City    State  \n",
       "0   Feb 8, 1967  Birmingham  Alabama  \n",
       "1  Dec 15, 1967      Athens  Alabama  \n",
       "2  Apr 23, 1958  Birmingham  Alabama  \n",
       "3  Feb 20, 1963       Leeds  Alabama  \n",
       "4   Dec 9, 1989  Birmingham  Alabama  "
      ]
     },
     "execution_count": 13,
     "metadata": {},
     "output_type": "execute_result"
    }
   ],
   "source": [
    "nba_df.head(5)"
   ]
  },
  {
   "cell_type": "code",
   "execution_count": 14,
   "metadata": {},
   "outputs": [
    {
     "name": "stdout",
     "output_type": "stream",
     "text": [
      "<class 'pandas.core.frame.DataFrame'>\n",
      "RangeIndex: 4688 entries, 0 to 4687\n",
      "Data columns (total 9 columns):\n",
      " #   Column        Non-Null Count  Dtype \n",
      "---  ------        --------------  ----- \n",
      " 0   Rank          4688 non-null   int64 \n",
      " 1   Player        4688 non-null   object\n",
      " 2   Years_Played  4688 non-null   int64 \n",
      " 3   Start_Year    4688 non-null   int64 \n",
      " 4   End_Date      4688 non-null   int64 \n",
      " 5   Points        4688 non-null   int64 \n",
      " 6   Date          4686 non-null   object\n",
      " 7   City          4659 non-null   object\n",
      " 8   State         4688 non-null   object\n",
      "dtypes: int64(5), object(4)\n",
      "memory usage: 329.8+ KB\n"
     ]
    }
   ],
   "source": [
    "nba_df.info()"
   ]
  },
  {
   "cell_type": "code",
   "execution_count": 16,
   "metadata": {},
   "outputs": [],
   "source": [
    "from datetime import datetime as dt\n",
    "#df['date'] = pd.to_datetime(df['date'])\n",
    "#campaign_df['launched_date'] = pd.to_datetime(campaign_df['launched_date'], unit='s').dt.strftime('%Y-%m-%d')\n",
    "nba_df['Date']= pd.to_datetime(nba_df['Date']).dt.strftime('%Y-%m-%d')"
   ]
  },
  {
   "cell_type": "code",
   "execution_count": 17,
   "metadata": {},
   "outputs": [
    {
     "name": "stdout",
     "output_type": "stream",
     "text": [
      "<class 'pandas.core.frame.DataFrame'>\n",
      "RangeIndex: 4688 entries, 0 to 4687\n",
      "Data columns (total 9 columns):\n",
      " #   Column        Non-Null Count  Dtype \n",
      "---  ------        --------------  ----- \n",
      " 0   Rank          4688 non-null   int64 \n",
      " 1   Player        4688 non-null   object\n",
      " 2   Years_Played  4688 non-null   int64 \n",
      " 3   Start_Year    4688 non-null   int64 \n",
      " 4   End_Date      4688 non-null   int64 \n",
      " 5   Points        4688 non-null   int64 \n",
      " 6   Date          4686 non-null   object\n",
      " 7   City          4659 non-null   object\n",
      " 8   State         4688 non-null   object\n",
      "dtypes: int64(5), object(4)\n",
      "memory usage: 329.8+ KB\n"
     ]
    }
   ],
   "source": [
    "nba_df.info()"
   ]
  },
  {
   "cell_type": "code",
   "execution_count": null,
   "metadata": {},
   "outputs": [],
   "source": []
  }
 ],
 "metadata": {
  "kernelspec": {
   "display_name": "Python 3 (ipykernel)",
   "language": "python",
   "name": "python3"
  },
  "language_info": {
   "codemirror_mode": {
    "name": "ipython",
    "version": 3
   },
   "file_extension": ".py",
   "mimetype": "text/x-python",
   "name": "python",
   "nbconvert_exporter": "python",
   "pygments_lexer": "ipython3",
   "version": "3.10.12"
  }
 },
 "nbformat": 4,
 "nbformat_minor": 4
}
